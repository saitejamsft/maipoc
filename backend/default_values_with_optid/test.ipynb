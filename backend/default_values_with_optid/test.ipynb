{
 "cells": [
  {
   "cell_type": "code",
   "execution_count": null,
   "metadata": {},
   "outputs": [],
   "source": [
    "import pandas as pd\n",
    "df1 = pd.DataFrame({\"user_id\":[1,2,3], \"rating\":[10, 15, 20]})\n",
    "df2 = pd.DataFrame({\"abc_id\":[3,4,5], \"rating\":[30, 35, 40]})\n",
    "# df4 = df[['user_id', 'rating_1']].rename(columns={'rating_1':'rating'})\n",
    "df = pd.merge(df1, df2, left_on='user_id',right_on='abc_id', suffixes=['_1', '_2'])\n",
    "df3 = df[['user_id', 'rating_1']].rename(columns={'rating_1':'rating'})\n",
    "df4 = df[['user_id', 'rating_2']].rename(columns={'rating_2':'rating'})\n",
    "pd.concat([df3, df4], axis=0)"
   ]
  },
  {
   "cell_type": "code",
   "execution_count": null,
   "metadata": {},
   "outputs": [],
   "source": [
    "import numpy as np\n",
    "data_1 = pd.read_csv('../files/Finance_Final.csv')\n",
    "data_2 = pd.read_json(\n",
    "                '../files/Seller_Narrative_Output_File_Original.json')\n",
    "data = pd.DataFrame({\"opty_id\": np.intersect1d(\n",
    "                data_1['opty_id'], data_2['Opportunity ID'])})"
   ]
  },
  {
   "cell_type": "code",
   "execution_count": null,
   "metadata": {},
   "outputs": [],
   "source": [
    "print(data_1.shape)\n",
    "print(data_2.shape)\n",
    "print(len(data))"
   ]
  },
  {
   "cell_type": "code",
   "execution_count": null,
   "metadata": {},
   "outputs": [],
   "source": [
    "data"
   ]
  },
  {
   "cell_type": "code",
   "execution_count": 4,
   "metadata": {},
   "outputs": [],
   "source": [
    "import pandas as pd\n",
    "df1 = pd.DataFrame([{'a': 1, 'b': 2}, {'a': 5, 'b': 10, 'c': 20}])"
   ]
  },
  {
   "cell_type": "code",
   "execution_count": 7,
   "metadata": {},
   "outputs": [
    {
     "data": {
      "text/plain": [
       "0    1\n",
       "1    5\n",
       "Name: a, dtype: int64"
      ]
     },
     "execution_count": 7,
     "metadata": {},
     "output_type": "execute_result"
    }
   ],
   "source": [
    "df1['a']"
   ]
  },
  {
   "cell_type": "code",
   "execution_count": null,
   "metadata": {},
   "outputs": [],
   "source": []
  }
 ],
 "metadata": {
  "interpreter": {
   "hash": "edca9638d5fc68d0a37b492510e95b808a7a7d34246d5e5b6bfeda76c1bd885e"
  },
  "kernelspec": {
   "display_name": "Python 3.7.5 64-bit",
   "language": "python",
   "name": "python3"
  },
  "language_info": {
   "codemirror_mode": {
    "name": "ipython",
    "version": 3
   },
   "file_extension": ".py",
   "mimetype": "text/x-python",
   "name": "python",
   "nbconvert_exporter": "python",
   "pygments_lexer": "ipython3",
   "version": "3.7.5"
  },
  "orig_nbformat": 4
 },
 "nbformat": 4,
 "nbformat_minor": 2
}
